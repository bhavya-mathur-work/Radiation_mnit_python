{
  "nbformat": 4,
  "nbformat_minor": 0,
  "metadata": {
    "colab": {
      "provenance": []
    },
    "kernelspec": {
      "name": "python3",
      "display_name": "Python 3"
    },
    "language_info": {
      "name": "python"
    }
  },
  "cells": [
    {
      "cell_type": "code",
      "execution_count": 1,
      "metadata": {
        "colab": {
          "base_uri": "https://localhost:8080/"
        },
        "id": "zTqKJ9Q-WWPx",
        "outputId": "07dd6852-206e-4d0d-e284-5346536bd9cc"
      },
      "outputs": [
        {
          "output_type": "stream",
          "name": "stdout",
          "text": [
            "Depletion width: 113.77 µm\n"
          ]
        }
      ],
      "source": [
        "import numpy as np\n",
        "\n",
        "# Constants\n",
        "epsilon_0 = 8.85e-14  # F/cm (vacuum permittivity)\n",
        "epsilon_r = 11.7      # relative permittivity for silicon\n",
        "V = 50                # bias voltage in volts\n",
        "Nd = 5e12             # dopant concentration in cm^-3 (you wrote Se12, assuming 5e12)\n",
        "q = 1.60e-19          # charge of electron in Coulombs\n",
        "\n",
        "# Depletion width calculation (in cm)\n",
        "d = np.sqrt((2 * epsilon_r * epsilon_0 * V) / (q * Nd))\n",
        "\n",
        "# Output in micrometers (1 cm = 1e4 micrometers)\n",
        "print(f\"Depletion width: {d * 1e4:.2f} µm\")\n"
      ]
    }
  ]
}